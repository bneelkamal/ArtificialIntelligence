{
 "cells": [
  {
   "cell_type": "markdown",
   "metadata": {},
   "source": [
    "**Simple Linear Regression**\n",
    "\n",
    "Create a model that could predict daily revenue of an ice cream business based on outside temperature\n",
    "\n",
    "Input X = Outside Air Temperature\n",
    "\n",
    "Output Y = Overall Daily Revenue\n"
   ]
  }
 ],
 "metadata": {
  "kernelspec": {
   "display_name": "Python 3",
   "language": "python",
   "name": "python3"
  },
  "language_info": {
   "name": "python",
   "version": "3.13.1"
  }
 },
 "nbformat": 4,
 "nbformat_minor": 2
}
